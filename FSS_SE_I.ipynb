{
 "cells": [
  {
   "cell_type": "markdown",
   "metadata": {},
   "source": [
    "# Fundamentals of Software Systems: Software Evolution, Part I - Assignment"
   ]
  },
  {
   "cell_type": "code",
   "execution_count": 1,
   "metadata": {},
   "outputs": [],
   "source": [
    "from pydriller import Repository, Git"
   ]
  },
  {
   "cell_type": "markdown",
   "metadata": {},
   "source": [
    "## Task 2: Complexity hotspots"
   ]
  },
  {
   "cell_type": "markdown",
   "metadata": {},
   "source": [
    "To checkout the last major release 3.6.0, the following git commands were used: \n",
    "1. git clone https://github.com/apache/kafka.git\n",
    "2. git checkout tags/3.6.0 -b 3.6  "
   ]
  },
  {
   "cell_type": "code",
   "execution_count": 49,
   "metadata": {},
   "outputs": [],
   "source": [
    "# Create a list (pandas dataframe) of all .java files\n",
    "import glob\n",
    "import pandas as pd\n",
    "\n",
    "\n",
    "def df_to_csv(df):\n",
    "    df.to_csv('java_files.csv', index=False)\n",
    "\n",
    "\n",
    "def csv_to_df():\n",
    "    return pd.read_csv('java_files.csv')\n",
    "\n",
    "\n",
    "java_files = []\n",
    "for filename in glob.glob('./kafka/**/*.java', recursive=True):\n",
    "    java_files.append(filename)\n",
    "\n",
    "df = pd.DataFrame()\n",
    "df['filename'] = java_files\n",
    "df_to_csv(df)"
   ]
  },
  {
   "cell_type": "code",
   "execution_count": 50,
   "metadata": {},
   "outputs": [],
   "source": [
    "# calculate cyclomatic complexity / LOC for each file using lizard\n",
    "import lizard\n",
    "\n",
    "df = csv_to_df()\n",
    "cc_list = []\n",
    "nloc_list = []\n",
    "for i in df.index:\n",
    "    cc = None\n",
    "    nloc = None\n",
    "    try:\n",
    "        i = lizard.analyze_file(df.iloc[i]['filename'])\n",
    "        cc = i.function_list[0].__dict__['cyclomatic_complexity']\n",
    "        nloc = i.function_list[0].__dict__['nloc']\n",
    "    except:\n",
    "        pass\n",
    "    cc_list.append(cc)\n",
    "    nloc_list.append(nloc)\n",
    "\n",
    "df['cc'] = cc_list\n",
    "df['nloc'] = nloc_list\n",
    "df_to_csv(df)"
   ]
  },
  {
   "cell_type": "code",
   "execution_count": null,
   "metadata": {},
   "outputs": [],
   "source": []
  }
 ],
 "metadata": {
  "kernelspec": {
   "display_name": "pydriller_env",
   "language": "python",
   "name": "python3"
  },
  "language_info": {
   "codemirror_mode": {
    "name": "ipython",
    "version": 3
   },
   "file_extension": ".py",
   "mimetype": "text/x-python",
   "name": "python",
   "nbconvert_exporter": "python",
   "pygments_lexer": "ipython3",
   "version": "3.11.5"
  }
 },
 "nbformat": 4,
 "nbformat_minor": 2
}
